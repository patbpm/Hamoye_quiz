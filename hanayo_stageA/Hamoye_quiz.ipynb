{
  "nbformat": 4,
  "nbformat_minor": 0,
  "metadata": {
    "colab": {
      "name": "Hamoye_quiz.ipynb",
      "provenance": []
    },
    "kernelspec": {
      "name": "python3",
      "display_name": "Python 3"
    }
  },
  "cells": [
    {
      "cell_type": "code",
      "metadata": {
        "id": "Nf8XXtmy7bfM",
        "colab_type": "code",
        "colab": {
          "base_uri": "https://localhost:8080/",
          "height": 71
        },
        "outputId": "2ae9538e-82e4-41b9-8c75-a866d0552731"
      },
      "source": [
        "#importing the needed libraries and modules\n",
        "import pandas as pd\n",
        "import numpy as np\n",
        "import matplotlib.pyplot as plt\n",
        "import seaborn as sns\n",
        "%matplotlib notebook"
      ],
      "execution_count": 1,
      "outputs": [
        {
          "output_type": "stream",
          "text": [
            "/usr/local/lib/python3.6/dist-packages/statsmodels/tools/_testing.py:19: FutureWarning: pandas.util.testing is deprecated. Use the functions in the public API at pandas.testing instead.\n",
            "  import pandas.util.testing as tm\n"
          ],
          "name": "stderr"
        }
      ]
    },
    {
      "cell_type": "markdown",
      "metadata": {
        "id": "i2wCD7n78gJk",
        "colab_type": "text"
      },
      "source": [
        ""
      ]
    },
    {
      "cell_type": "markdown",
      "metadata": {
        "id": "i8md7Kzu8im6",
        "colab_type": "text"
      },
      "source": [
        ""
      ]
    },
    {
      "cell_type": "code",
      "metadata": {
        "id": "yPaT8GGT8r-8",
        "colab_type": "code",
        "colab": {}
      },
      "source": [
        "df=pd.read_csv('https://raw.githubusercontent.com/WalePhenomenon/climate_change/master/fuel_ferc1.csv')\n",
        "df.head()"
      ],
      "execution_count": null,
      "outputs": []
    },
    {
      "cell_type": "code",
      "metadata": {
        "id": "U_cWBolD8ui7",
        "colab_type": "code",
        "colab": {}
      },
      "source": [
        "df.describe(include='all')"
      ],
      "execution_count": null,
      "outputs": []
    },
    {
      "cell_type": "code",
      "metadata": {
        "id": "kGIPKCBI82lZ",
        "colab_type": "code",
        "colab": {}
      },
      "source": [
        "#Missing Values\n",
        "df.isnull().sum()"
      ],
      "execution_count": null,
      "outputs": []
    },
    {
      "cell_type": "code",
      "metadata": {
        "id": "7-2sF3XZ8_5_",
        "colab_type": "code",
        "colab": {}
      },
      "source": [
        "#the first() function output the first rows having the each unique value in the reference feature\n",
        "df.groupby('fuel_type_code_pudl').first("
      ],
      "execution_count": null,
      "outputs": []
    },
    {
      "cell_type": "code",
      "metadata": {
        "id": "f8jwjHvH9MeJ",
        "colab_type": "code",
        "colab": {}
      },
      "source": [
        "#to show the extent of correlation between features and labels in dataset using pearsonr, kendall or spearman correlation\n",
        "df.corr()"
      ],
      "execution_count": null,
      "outputs": []
    },
    {
      "cell_type": "code",
      "metadata": {
        "id": "Kx4wEqMi9eL6",
        "colab_type": "code",
        "colab": {}
      },
      "source": [
        "#Use Seaborns heatmap to obtain the correlation between features in the dataset\n",
        "%matplotlib notebook\n",
        "plt.figure(figsize=(10,6))\n",
        "sns.heatmap(df.corr(),annot=True)\n",
        "plt.title('Heatmap of correlation betweeen Features')\n",
        "plt.show()"
      ],
      "execution_count": null,
      "outputs": []
    },
    {
      "cell_type": "code",
      "metadata": {
        "id": "BIrZCLUP9ppE",
        "colab_type": "code",
        "colab": {}
      },
      "source": [
        "df.skew()"
      ],
      "execution_count": null,
      "outputs": []
    },
    {
      "cell_type": "code",
      "metadata": {
        "id": "izvzzDoK95bE",
        "colab_type": "code",
        "colab": {}
      },
      "source": [
        "#percentage change in fuel cost per unit burned in 1998 and 1994 for coal\n",
        "mean_1994=df.groupby(['report_year','fuel_type_code_pudl'])['fuel_cost_per_unit_burned'].mean().loc[1994,'coal']\n",
        "mean_1998=df.groupby(['report_year','fuel_type_code_pudl'])['fuel_cost_per_unit_burned'].mean().loc[1998,'coal']\n",
        "percent_change=(mean_1998-mean_1994)/(mean_1994) *100\n",
        "print('percent_change = ' ,percent_change)"
      ],
      "execution_count": null,
      "outputs": []
    },
    {
      "cell_type": "code",
      "metadata": {
        "id": "xgembI0j_BmU",
        "colab_type": "code",
        "colab": {}
      },
      "source": [
        "#report year with the highest average fuel_cost_per_unit_delivered\n",
        "df.groupby('report_year')['fuel_cost_per_unit_delivered'].mean().sort_values().idxmax()"
      ],
      "execution_count": null,
      "outputs": []
    }
  ]
}